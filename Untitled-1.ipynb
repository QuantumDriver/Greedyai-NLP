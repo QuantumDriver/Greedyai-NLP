{
 "nbformat": 4,
 "nbformat_minor": 2,
 "metadata": {
  "language_info": {
   "name": "python",
   "codemirror_mode": {
    "name": "ipython",
    "version": 3
   },
   "version": "3.6.10-final"
  },
  "orig_nbformat": 2,
  "file_extension": ".py",
  "mimetype": "text/x-python",
  "name": "python",
  "npconvert_exporter": "python",
  "pygments_lexer": "ipython3",
  "version": 3,
  "kernelspec": {
   "name": "python36264bitmytensorcondaed76bd47a19b45dfa76772dfe3f441d5",
   "display_name": "Python 3.6.2 64-bit ('mytensor': conda)"
  }
 },
 "cells": [
  {
   "cell_type": "markdown",
   "metadata": {},
   "source": [
    "### lambda表达式\n",
    "又被称之为匿名函数  \n",
    "格式：lambda 参数列表：函数体"
   ]
  },
  {
   "cell_type": "code",
   "execution_count": 1,
   "metadata": {},
   "outputs": [
    {
     "name": "stdout",
     "output_type": "stream",
     "text": "7\n"
    }
   ],
   "source": [
    "def add(x, y):\n",
    "    return x + y\n",
    "print(add(3,4))"
   ]
  },
  {
   "cell_type": "code",
   "execution_count": 2,
   "metadata": {},
   "outputs": [
    {
     "data": {
      "text/plain": "7"
     },
     "execution_count": 2,
     "metadata": {},
     "output_type": "execute_result"
    }
   ],
   "source": [
    "add_lambda = lambda x,y:x+y\n",
    "add_lambda(3,4)"
   ]
  },
  {
   "cell_type": "markdown",
   "metadata": {},
   "source": [
    "### 三元运算符"
   ]
  },
  {
   "cell_type": "code",
   "execution_count": 3,
   "metadata": {},
   "outputs": [
    {
     "name": "stdout",
     "output_type": "stream",
     "text": "1\n"
    }
   ],
   "source": [
    "condition = True\n",
    "print(1 if condition else 2)"
   ]
  },
  {
   "cell_type": "markdown",
   "metadata": {},
   "source": [
    "### map函数的应用"
   ]
  },
  {
   "cell_type": "code",
   "execution_count": 5,
   "metadata": {},
   "outputs": [
    {
     "name": "stdout",
     "output_type": "stream",
     "text": "[2, 4, 6, 8, 10]\n"
    }
   ],
   "source": [
    "list1 = [1,2,3,4,5]\n",
    "r = map(lambda x : x + x, list1)\n",
    "print(list(r))"
   ]
  },
  {
   "cell_type": "code",
   "execution_count": 6,
   "metadata": {},
   "outputs": [
    {
     "name": "stdout",
     "output_type": "stream",
     "text": "[2, 6, 12, 20, 30]\n"
    }
   ],
   "source": [
    "m1 = map(lambda x, y : x * x + y, list1, list1)\n",
    "print(list(m1))"
   ]
  },
  {
   "cell_type": "markdown",
   "metadata": {},
   "source": [
    "### filter过滤器"
   ]
  },
  {
   "cell_type": "code",
   "execution_count": 7,
   "metadata": {},
   "outputs": [
    {
     "name": "stdout",
     "output_type": "stream",
     "text": "['hello', 'hi', 'ai']\n"
    }
   ],
   "source": [
    "def is_not_none(n):\n",
    "    return n and len(n.strip()) > 0\n",
    "list2 = [' ', '', 'hello', 'hi', None, 'ai']\n",
    "result = filter(is_not_none, list2)\n",
    "print(list(result))"
   ]
  },
  {
   "cell_type": "markdown",
   "metadata": {},
   "source": [
    "### reduce函数"
   ]
  },
  {
   "cell_type": "code",
   "execution_count": 10,
   "metadata": {},
   "outputs": [
    {
     "name": "stdout",
     "output_type": "stream",
     "text": "15\n"
    }
   ],
   "source": [
    "from functools import reduce\n",
    "f = lambda x, y : x+y\n",
    "r = reduce(f, [1, 2, 3, 4, 5])\n",
    "print(r)"
   ]
  },
  {
   "cell_type": "code",
   "execution_count": 11,
   "metadata": {},
   "outputs": [
    {
     "name": "stdout",
     "output_type": "stream",
     "text": "25\n"
    }
   ],
   "source": [
    "from functools import reduce\n",
    "f = lambda x, y : x+y\n",
    "r = reduce(f, [1, 2, 3, 4, 5], 10)\n",
    "print(r)"
   ]
  },
  {
   "cell_type": "markdown",
   "metadata": {},
   "source": [
    "### 列表推导式\n",
    "根据已有的列表推导新的列表"
   ]
  },
  {
   "cell_type": "code",
   "execution_count": 13,
   "metadata": {},
   "outputs": [
    {
     "name": "stdout",
     "output_type": "stream",
     "text": "[2, 4, 6, 8, 10, 12]\n"
    }
   ],
   "source": [
    "list1 = [1,2,3,4,5,6]\n",
    "list2 = [i+i for i in list1]\n",
    "print(list2)"
   ]
  },
  {
   "cell_type": "code",
   "execution_count": 15,
   "metadata": {},
   "outputs": [
    {
     "name": "stdout",
     "output_type": "stream",
     "text": "[16, 25, 36]\n"
    }
   ],
   "source": [
    "# 有选择性地筛选\n",
    "list4 = [i*i for i in list1 if i>3]\n",
    "print(list4)"
   ]
  },
  {
   "cell_type": "markdown",
   "metadata": {},
   "source": [
    "### 集合推导式"
   ]
  },
  {
   "cell_type": "code",
   "execution_count": 16,
   "metadata": {},
   "outputs": [],
   "source": [
    "set1 = {1,2,3,4,5,6}\n",
    "set2 = {i+i for i in list1}"
   ]
  },
  {
   "cell_type": "markdown",
   "metadata": {},
   "source": [
    "### 字典推导式"
   ]
  },
  {
   "cell_type": "code",
   "execution_count": 18,
   "metadata": {},
   "outputs": [
    {
     "name": "stdout",
     "output_type": "stream",
     "text": "['zhangsan', 'lisi', 'wangwu']\n"
    }
   ],
   "source": [
    "s = {\n",
    "    \"zhangsan\": 20,\n",
    "    \"lisi\": 15,\n",
    "    \"wangwu\": 31\n",
    "}\n",
    "\n",
    "# 拿出所有的key\n",
    "s_key = [key for key, value in s.items()]\n",
    "print(s_key)"
   ]
  },
  {
   "cell_type": "code",
   "execution_count": 19,
   "metadata": {},
   "outputs": [
    {
     "name": "stdout",
     "output_type": "stream",
     "text": "{20: 'zhangsan', 15: 'lisi', 31: 'wangwu'}\n"
    }
   ],
   "source": [
    "# key和value的颠倒\n",
    "s1 = {value: key for key, value in s.items()}\n",
    "print(s1)"
   ]
  },
  {
   "cell_type": "markdown",
   "metadata": {},
   "source": [
    "### 闭包\n",
    "一个返回值是函数的函数"
   ]
  },
  {
   "cell_type": "code",
   "execution_count": 21,
   "metadata": {},
   "outputs": [
    {
     "name": "stdout",
     "output_type": "stream",
     "text": "1583755638.542581\n"
    }
   ],
   "source": [
    "import time\n",
    "def runtime():\n",
    "    def now_time():\n",
    "        print(time.time())\n",
    "    return now_time\n",
    "f = runtime()\n",
    "f()"
   ]
  },
  {
   "cell_type": "code",
   "execution_count": null,
   "metadata": {},
   "outputs": [],
   "source": [
    "def make_filter(keep):          # keep = 8\n",
    "    def the_filter(file_name):  #file_name = data.csv 这个文件\n",
    "        file = open(file_name)\n",
    "        lines = file.readlines()\n",
    "        file.close()\n",
    "        filter_doc = [i for i in lines if keep in i]\n",
    "        return filter_doc\n",
    "    return the_filter\n",
    "\n",
    "filter1 = make_filter(\"8\")\n",
    "# 这一行调用了make_filter函数，接受了the_filter函数作为返回值\n",
    "# 也就是这里的filter1就等于函数the_filter\n",
    "\n",
    "filter_result = filter1(\"data.csv\")\n",
    "print(filter_result)"
   ]
  },
  {
   "cell_type": "markdown",
   "metadata": {},
   "source": [
    "### 装饰器/语法糖/注解"
   ]
  },
  {
   "cell_type": "code",
   "execution_count": 22,
   "metadata": {},
   "outputs": [
    {
     "name": "stdout",
     "output_type": "stream",
     "text": "1583758984.332984\n学生跑\n"
    }
   ],
   "source": [
    "# 获取函数运行的时间\n",
    "import time\n",
    "def runtime(func):\n",
    "    def get_time():\n",
    "        print(time.time())\n",
    "        func()\n",
    "    return get_time\n",
    "\n",
    "@runtime\n",
    "def student_run():\n",
    "    print(\"学生跑\")\n",
    "\n",
    "student_run()"
   ]
  },
  {
   "cell_type": "code",
   "execution_count": 23,
   "metadata": {},
   "outputs": [
    {
     "name": "stdout",
     "output_type": "stream",
     "text": "1583759141.088504\n学生跑\n"
    }
   ],
   "source": [
    "# 带参数的装饰器\n",
    "\n",
    "# 一个参数\n",
    "def runtime(func):\n",
    "    def get_time(i):\n",
    "        print(time.time())\n",
    "        func(i)    # 函数真正被调用是在这里，所以这里一定要加参数\n",
    "    return get_time\n",
    "\n",
    "@runtime\n",
    "def student_run(i):\n",
    "    print(\"学生跑\")\n",
    "\n",
    "student_run(1)\n",
    "\n",
    "# 解决多个参数\n",
    "def runtime(func):\n",
    "    def get_time(*args):    # 用*args\n",
    "        print(time.time())\n",
    "        func(*args)     # 用*args\n",
    "    return get_time\n",
    "\n",
    "@runtime\n",
    "def student_run(i, j):\n",
    "    print(\"学生跑\")"
   ]
  },
  {
   "cell_type": "code",
   "execution_count": 24,
   "metadata": {},
   "outputs": [
    {
     "name": "stdout",
     "output_type": "stream",
     "text": "1583759400.890402\n学生跑\n"
    }
   ],
   "source": [
    "# 关键字参数\n",
    "def runtime(func):\n",
    "    def get_time(**kwargs):    # 用**kwargs\n",
    "        print(time.time())\n",
    "        func(**kwargs)     # 用**kwargs\n",
    "    return get_time\n",
    "\n",
    "@runtime\n",
    "def student_run1(**kwargs):\n",
    "    print(\"学生跑\")\n",
    "\n",
    "student_run1(i = 1, j = 2)\n",
    "\n",
    "\n",
    "def runtime(func):\n",
    "    def get_time(*args, **kwargs):    #\n",
    "        print(time.time())\n",
    "        func(*args, **kwargs)     #\n",
    "    return get_time\n",
    "\n",
    "@runtime\n",
    "def student_run1(*args, **kwargs):\n",
    "    print(\"学生跑\")\n",
    "student_run1(5, i = 1, j = 2)"
   ]
  },
  {
   "cell_type": "code",
   "execution_count": null,
   "metadata": {},
   "outputs": [],
   "source": []
  },
  {
   "cell_type": "code",
   "execution_count": null,
   "metadata": {},
   "outputs": [],
   "source": []
  },
  {
   "cell_type": "code",
   "execution_count": null,
   "metadata": {},
   "outputs": [],
   "source": []
  }
 ]
}
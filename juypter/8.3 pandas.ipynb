{
 "nbformat": 4,
 "nbformat_minor": 2,
 "metadata": {
  "language_info": {
   "name": "python",
   "codemirror_mode": {
    "name": "ipython",
    "version": 3
   },
   "version": "3.6.10-final"
  },
  "orig_nbformat": 2,
  "file_extension": ".py",
  "mimetype": "text/x-python",
  "name": "python",
  "npconvert_exporter": "python",
  "pygments_lexer": "ipython3",
  "version": 3,
  "kernelspec": {
   "name": "python36264bitmytensorcondaed76bd47a19b45dfa76772dfe3f441d5",
   "display_name": "Python 3.6.2 64-bit ('mytensor': conda)"
  }
 },
 "cells": [
  {
   "cell_type": "code",
   "execution_count": 3,
   "metadata": {},
   "outputs": [
    {
     "name": "stdout",
     "output_type": "stream",
     "text": "Collecting pandas\n  Downloading pandas-1.0.1-cp36-cp36m-macosx_10_9_x86_64.whl (9.9 MB)\n\u001b[K     |████████████████████████████████| 9.9 MB 3.6 MB/s \n\u001b[?25hCollecting pytz>=2017.2\n  Downloading pytz-2019.3-py2.py3-none-any.whl (509 kB)\n\u001b[K     |████████████████████████████████| 509 kB 21.5 MB/s \n\u001b[?25hRequirement already satisfied: python-dateutil>=2.6.1 in /Users/zhouhanqi/opt/anaconda3/envs/mytensor/lib/python3.6/site-packages (from pandas) (2.6.1)\nRequirement already satisfied: numpy>=1.13.3 in /Users/zhouhanqi/opt/anaconda3/envs/mytensor/lib/python3.6/site-packages (from pandas) (1.18.1)\nRequirement already satisfied: six>=1.5 in /Users/zhouhanqi/.local/lib/python3.6/site-packages (from python-dateutil>=2.6.1->pandas) (1.14.0)\nInstalling collected packages: pytz, pandas\nSuccessfully installed pandas-1.0.1 pytz-2019.3\n"
    }
   ],
   "source": [
    "!pip install pandas\n",
    "import pandas as pd"
   ]
  },
  {
   "cell_type": "markdown",
   "metadata": {},
   "source": [
    "## 1. Series类型\n",
    "类似于一维数组的对象  \n",
    "由一组数据以及一组与之相关的数组标签组成（索引）  \n",
    "仅由一组数据即可产生最简单的series"
   ]
  },
  {
   "cell_type": "code",
   "execution_count": 5,
   "metadata": {},
   "outputs": [
    {
     "name": "stdout",
     "output_type": "stream",
     "text": "0    1\n1    2\n2    3\n3    4\n4    5\ndtype: int64\n"
    }
   ],
   "source": [
    "obj = pd.Series([1,2,3,4,5])\n",
    "print(obj)"
   ]
  },
  {
   "cell_type": "code",
   "execution_count": 6,
   "metadata": {},
   "outputs": [
    {
     "name": "stdout",
     "output_type": "stream",
     "text": "[1 2 3 4 5]\nRangeIndex(start=0, stop=5, step=1)\n"
    }
   ],
   "source": [
    "print(obj.values)\n",
    "print(obj.index)"
   ]
  },
  {
   "cell_type": "code",
   "execution_count": 7,
   "metadata": {},
   "outputs": [
    {
     "name": "stdout",
     "output_type": "stream",
     "text": "1    a\n2    b\n3    c\n4    d\n5    e\ndtype: object\n"
    }
   ],
   "source": [
    "# 自定义索引\n",
    "obj1 = pd.Series(['a','b','c','d','e'], index=[1,2,3,4,5])\n",
    "print(obj1)"
   ]
  },
  {
   "cell_type": "code",
   "execution_count": 8,
   "metadata": {},
   "outputs": [
    {
     "data": {
      "text/plain": "3"
     },
     "execution_count": 8,
     "metadata": {},
     "output_type": "execute_result"
    }
   ],
   "source": [
    "obj[2]"
   ]
  },
  {
   "cell_type": "code",
   "execution_count": 10,
   "metadata": {},
   "outputs": [
    {
     "data": {
      "text/plain": "a    10000\nb    20000\nc    30000\ndtype: int64"
     },
     "execution_count": 10,
     "metadata": {},
     "output_type": "execute_result"
    }
   ],
   "source": [
    "# 我们也可以吧series当作字典来使用\n",
    "data = {'a':10000, 'b':20000, 'c':30000}\n",
    "obj2 = pd.Series(data)\n",
    "obj2"
   ]
  },
  {
   "cell_type": "code",
   "execution_count": 12,
   "metadata": {},
   "outputs": [
    {
     "data": {
      "text/plain": "a    10000\nc    30000\ndtype: int64"
     },
     "execution_count": 12,
     "metadata": {},
     "output_type": "execute_result"
    }
   ],
   "source": [
    "keys = ['a','c']\n",
    "obj3 = pd.Series(data,index=keys)\n",
    "obj3"
   ]
  },
  {
   "cell_type": "code",
   "execution_count": 13,
   "metadata": {},
   "outputs": [
    {
     "data": {
      "text/plain": "0    False\n1    False\n2    False\n3    False\n4    False\ndtype: bool"
     },
     "execution_count": 13,
     "metadata": {},
     "output_type": "execute_result"
    }
   ],
   "source": [
    "# 缺失数据的处理\n",
    "# none会变成nan\n",
    "pd.isnull(obj)  # 或者obj.isnull()"
   ]
  },
  {
   "cell_type": "markdown",
   "metadata": {},
   "source": [
    "## 2. dataframe\n",
    "表格型的数据结构  \n",
    "它含有一组有序的列  \n",
    "每列可以是不同值的类型、数值、字符串  \n",
    "有行索引、也有列索引  \n",
    "可以理解成是由series组成的一个字典"
   ]
  },
  {
   "cell_type": "code",
   "execution_count": 15,
   "metadata": {},
   "outputs": [
    {
     "name": "stdout",
     "output_type": "stream",
     "text": "60年代 70年代 80年代\n0    a    d    g\n1    b    e    h\n2    c    f    i\n"
    }
   ],
   "source": [
    "# 构建\n",
    "data = {\n",
    "    '60年代': ['a', 'b', 'c'],\n",
    "    '70年代': ['d', 'e', 'f'],\n",
    "    '80年代': ['g', 'h', 'i'],\n",
    "}\n",
    "\n",
    "frame_data = pd.DataFrame(data)\n",
    "print(frame_data)"
   ]
  },
  {
   "cell_type": "code",
   "execution_count": 17,
   "metadata": {},
   "outputs": [
    {
     "data": {
      "text/plain": "0    d\n1    e\n2    f\nName: 70年代, dtype: object"
     },
     "execution_count": 17,
     "metadata": {},
     "output_type": "execute_result"
    }
   ],
   "source": [
    "# 访问\n",
    "frame_data['70年代']\n",
    "# 取出来的数据其实就是一个series"
   ]
  },
  {
   "cell_type": "code",
   "execution_count": 22,
   "metadata": {},
   "outputs": [
    {
     "data": {
      "text/plain": "DatetimeIndex(['2019-03-01', '2019-03-02', '2019-03-03', '2019-03-04',\n               '2019-03-05', '2019-03-06'],\n              dtype='datetime64[ns]', freq='D')"
     },
     "execution_count": 22,
     "metadata": {},
     "output_type": "execute_result"
    }
   ],
   "source": [
    "import numpy as np\n",
    "dates = pd.date_range('20190301', periods=6)\n",
    "dates"
   ]
  },
  {
   "cell_type": "code",
   "execution_count": 23,
   "metadata": {},
   "outputs": [
    {
     "data": {
      "text/html": "<div>\n<style scoped>\n    .dataframe tbody tr th:only-of-type {\n        vertical-align: middle;\n    }\n\n    .dataframe tbody tr th {\n        vertical-align: top;\n    }\n\n    .dataframe thead th {\n        text-align: right;\n    }\n</style>\n<table border=\"1\" class=\"dataframe\">\n  <thead>\n    <tr style=\"text-align: right;\">\n      <th></th>\n      <th>A</th>\n      <th>B</th>\n      <th>C</th>\n      <th>D</th>\n    </tr>\n  </thead>\n  <tbody>\n    <tr>\n      <th>2019-03-01</th>\n      <td>0.438690</td>\n      <td>0.529751</td>\n      <td>0.123424</td>\n      <td>0.974243</td>\n    </tr>\n    <tr>\n      <th>2019-03-02</th>\n      <td>0.714029</td>\n      <td>0.137904</td>\n      <td>0.404188</td>\n      <td>0.630700</td>\n    </tr>\n    <tr>\n      <th>2019-03-03</th>\n      <td>0.515696</td>\n      <td>0.207398</td>\n      <td>0.876806</td>\n      <td>0.715236</td>\n    </tr>\n    <tr>\n      <th>2019-03-04</th>\n      <td>0.987398</td>\n      <td>0.324618</td>\n      <td>0.689395</td>\n      <td>0.254037</td>\n    </tr>\n    <tr>\n      <th>2019-03-05</th>\n      <td>0.490467</td>\n      <td>0.897999</td>\n      <td>0.104574</td>\n      <td>0.014072</td>\n    </tr>\n    <tr>\n      <th>2019-03-06</th>\n      <td>0.749710</td>\n      <td>0.360298</td>\n      <td>0.278479</td>\n      <td>0.630408</td>\n    </tr>\n  </tbody>\n</table>\n</div>",
      "text/plain": "                   A         B         C         D\n2019-03-01  0.438690  0.529751  0.123424  0.974243\n2019-03-02  0.714029  0.137904  0.404188  0.630700\n2019-03-03  0.515696  0.207398  0.876806  0.715236\n2019-03-04  0.987398  0.324618  0.689395  0.254037\n2019-03-05  0.490467  0.897999  0.104574  0.014072\n2019-03-06  0.749710  0.360298  0.278479  0.630408"
     },
     "execution_count": 23,
     "metadata": {},
     "output_type": "execute_result"
    }
   ],
   "source": [
    "df = pd.DataFrame(np.random.rand(6,4), index = dates, columns = list('ABCD'))\n",
    "df"
   ]
  },
  {
   "cell_type": "code",
   "execution_count": 24,
   "metadata": {},
   "outputs": [
    {
     "data": {
      "text/html": "<div>\n<style scoped>\n    .dataframe tbody tr th:only-of-type {\n        vertical-align: middle;\n    }\n\n    .dataframe tbody tr th {\n        vertical-align: top;\n    }\n\n    .dataframe thead th {\n        text-align: right;\n    }\n</style>\n<table border=\"1\" class=\"dataframe\">\n  <thead>\n    <tr style=\"text-align: right;\">\n      <th></th>\n      <th>2019-03-01</th>\n      <th>2019-03-02</th>\n      <th>2019-03-03</th>\n      <th>2019-03-04</th>\n      <th>2019-03-05</th>\n      <th>2019-03-06</th>\n    </tr>\n  </thead>\n  <tbody>\n    <tr>\n      <th>A</th>\n      <td>0.438690</td>\n      <td>0.714029</td>\n      <td>0.515696</td>\n      <td>0.987398</td>\n      <td>0.490467</td>\n      <td>0.749710</td>\n    </tr>\n    <tr>\n      <th>B</th>\n      <td>0.529751</td>\n      <td>0.137904</td>\n      <td>0.207398</td>\n      <td>0.324618</td>\n      <td>0.897999</td>\n      <td>0.360298</td>\n    </tr>\n    <tr>\n      <th>C</th>\n      <td>0.123424</td>\n      <td>0.404188</td>\n      <td>0.876806</td>\n      <td>0.689395</td>\n      <td>0.104574</td>\n      <td>0.278479</td>\n    </tr>\n    <tr>\n      <th>D</th>\n      <td>0.974243</td>\n      <td>0.630700</td>\n      <td>0.715236</td>\n      <td>0.254037</td>\n      <td>0.014072</td>\n      <td>0.630408</td>\n    </tr>\n  </tbody>\n</table>\n</div>",
      "text/plain": "   2019-03-01  2019-03-02  2019-03-03  2019-03-04  2019-03-05  2019-03-06\nA    0.438690    0.714029    0.515696    0.987398    0.490467    0.749710\nB    0.529751    0.137904    0.207398    0.324618    0.897999    0.360298\nC    0.123424    0.404188    0.876806    0.689395    0.104574    0.278479\nD    0.974243    0.630700    0.715236    0.254037    0.014072    0.630408"
     },
     "execution_count": 24,
     "metadata": {},
     "output_type": "execute_result"
    }
   ],
   "source": [
    "df.T"
   ]
  },
  {
   "cell_type": "code",
   "execution_count": 26,
   "metadata": {},
   "outputs": [
    {
     "data": {
      "text/html": "<div>\n<style scoped>\n    .dataframe tbody tr th:only-of-type {\n        vertical-align: middle;\n    }\n\n    .dataframe tbody tr th {\n        vertical-align: top;\n    }\n\n    .dataframe thead th {\n        text-align: right;\n    }\n</style>\n<table border=\"1\" class=\"dataframe\">\n  <thead>\n    <tr style=\"text-align: right;\">\n      <th></th>\n      <th>A</th>\n      <th>B</th>\n      <th>C</th>\n      <th>D</th>\n    </tr>\n  </thead>\n  <tbody>\n    <tr>\n      <th>2019-03-01</th>\n      <td>0.438690</td>\n      <td>0.529751</td>\n      <td>0.123424</td>\n      <td>0.974243</td>\n    </tr>\n    <tr>\n      <th>2019-03-02</th>\n      <td>0.714029</td>\n      <td>0.137904</td>\n      <td>0.404188</td>\n      <td>0.630700</td>\n    </tr>\n    <tr>\n      <th>2019-03-03</th>\n      <td>0.515696</td>\n      <td>0.207398</td>\n      <td>0.876806</td>\n      <td>0.715236</td>\n    </tr>\n  </tbody>\n</table>\n</div>",
      "text/plain": "                   A         B         C         D\n2019-03-01  0.438690  0.529751  0.123424  0.974243\n2019-03-02  0.714029  0.137904  0.404188  0.630700\n2019-03-03  0.515696  0.207398  0.876806  0.715236"
     },
     "execution_count": 26,
     "metadata": {},
     "output_type": "execute_result"
    }
   ],
   "source": [
    "df['20190301':'20190303']\n",
    "# 不同于python里面左闭右开的原则\n",
    "# 包含所有"
   ]
  },
  {
   "cell_type": "code",
   "execution_count": 27,
   "metadata": {},
   "outputs": [
    {
     "data": {
      "text/html": "<div>\n<style scoped>\n    .dataframe tbody tr th:only-of-type {\n        vertical-align: middle;\n    }\n\n    .dataframe tbody tr th {\n        vertical-align: top;\n    }\n\n    .dataframe thead th {\n        text-align: right;\n    }\n</style>\n<table border=\"1\" class=\"dataframe\">\n  <thead>\n    <tr style=\"text-align: right;\">\n      <th></th>\n      <th>A</th>\n      <th>B</th>\n    </tr>\n  </thead>\n  <tbody>\n    <tr>\n      <th>2019-03-01</th>\n      <td>0.438690</td>\n      <td>0.529751</td>\n    </tr>\n    <tr>\n      <th>2019-03-02</th>\n      <td>0.714029</td>\n      <td>0.137904</td>\n    </tr>\n    <tr>\n      <th>2019-03-03</th>\n      <td>0.515696</td>\n      <td>0.207398</td>\n    </tr>\n  </tbody>\n</table>\n</div>",
      "text/plain": "                   A         B\n2019-03-01  0.438690  0.529751\n2019-03-02  0.714029  0.137904\n2019-03-03  0.515696  0.207398"
     },
     "execution_count": 27,
     "metadata": {},
     "output_type": "execute_result"
    }
   ],
   "source": [
    "# 对行列同时进行筛选\n",
    "df.loc['20190301':'20190303', ['A','B']]"
   ]
  },
  {
   "cell_type": "code",
   "execution_count": 29,
   "metadata": {},
   "outputs": [
    {
     "data": {
      "text/plain": "0.438689844059279"
     },
     "execution_count": 29,
     "metadata": {},
     "output_type": "execute_result"
    }
   ],
   "source": [
    "df.at[dates[0], 'A']"
   ]
  },
  {
   "cell_type": "code",
   "execution_count": 30,
   "metadata": {},
   "outputs": [
    {
     "data": {
      "text/html": "<div>\n<style scoped>\n    .dataframe tbody tr th:only-of-type {\n        vertical-align: middle;\n    }\n\n    .dataframe tbody tr th {\n        vertical-align: top;\n    }\n\n    .dataframe thead th {\n        text-align: right;\n    }\n</style>\n<table border=\"1\" class=\"dataframe\">\n  <thead>\n    <tr style=\"text-align: right;\">\n      <th></th>\n      <th>A</th>\n      <th>B</th>\n      <th>C</th>\n      <th>D</th>\n    </tr>\n  </thead>\n  <tbody>\n    <tr>\n      <th>2019-03-01</th>\n      <td>0.438690</td>\n      <td>0.529751</td>\n      <td>0.123424</td>\n      <td>0.974243</td>\n    </tr>\n    <tr>\n      <th>2019-03-02</th>\n      <td>0.714029</td>\n      <td>0.137904</td>\n      <td>0.404188</td>\n      <td>0.630700</td>\n    </tr>\n  </tbody>\n</table>\n</div>",
      "text/plain": "                   A         B         C         D\n2019-03-01  0.438690  0.529751  0.123424  0.974243\n2019-03-02  0.714029  0.137904  0.404188  0.630700"
     },
     "execution_count": 30,
     "metadata": {},
     "output_type": "execute_result"
    }
   ],
   "source": [
    "df.head(2)"
   ]
  },
  {
   "cell_type": "code",
   "execution_count": 31,
   "metadata": {},
   "outputs": [
    {
     "data": {
      "text/html": "<div>\n<style scoped>\n    .dataframe tbody tr th:only-of-type {\n        vertical-align: middle;\n    }\n\n    .dataframe tbody tr th {\n        vertical-align: top;\n    }\n\n    .dataframe thead th {\n        text-align: right;\n    }\n</style>\n<table border=\"1\" class=\"dataframe\">\n  <thead>\n    <tr style=\"text-align: right;\">\n      <th></th>\n      <th>A</th>\n      <th>B</th>\n      <th>C</th>\n      <th>D</th>\n    </tr>\n  </thead>\n  <tbody>\n    <tr>\n      <th>2019-03-04</th>\n      <td>0.987398</td>\n      <td>0.324618</td>\n      <td>0.689395</td>\n      <td>0.254037</td>\n    </tr>\n    <tr>\n      <th>2019-03-05</th>\n      <td>0.490467</td>\n      <td>0.897999</td>\n      <td>0.104574</td>\n      <td>0.014072</td>\n    </tr>\n    <tr>\n      <th>2019-03-06</th>\n      <td>0.749710</td>\n      <td>0.360298</td>\n      <td>0.278479</td>\n      <td>0.630408</td>\n    </tr>\n  </tbody>\n</table>\n</div>",
      "text/plain": "                   A         B         C         D\n2019-03-04  0.987398  0.324618  0.689395  0.254037\n2019-03-05  0.490467  0.897999  0.104574  0.014072\n2019-03-06  0.749710  0.360298  0.278479  0.630408"
     },
     "execution_count": 31,
     "metadata": {},
     "output_type": "execute_result"
    }
   ],
   "source": [
    "df.tail(3)"
   ]
  },
  {
   "cell_type": "markdown",
   "metadata": {},
   "source": [
    "#### dataframe能够接受哪些数据类型\n",
    "1. 二维numpy array\n",
    "2. 由数组、列表或是元组组成的字典\n",
    "3. 由series组成的字典\n",
    "4. 由字典组成的字典\n",
    "5. 字典或series的列表\n",
    "6. 由列表或元组组成的列表\n",
    "7. 另一个dataframe"
   ]
  },
  {
   "cell_type": "markdown",
   "metadata": {},
   "source": [
    "## 3. pandas重新索引"
   ]
  },
  {
   "cell_type": "code",
   "execution_count": 35,
   "metadata": {},
   "outputs": [
    {
     "data": {
      "text/plain": "1    a\n2    b\n3    c\n4    d\n5    e\ndtype: object"
     },
     "execution_count": 35,
     "metadata": {},
     "output_type": "execute_result"
    }
   ],
   "source": [
    "obj1"
   ]
  },
  {
   "cell_type": "code",
   "execution_count": 42,
   "metadata": {},
   "outputs": [
    {
     "data": {
      "text/plain": "1      a\n2      b\n3      c\n4      d\n5      e\n6    NaN\ndtype: object"
     },
     "execution_count": 42,
     "metadata": {},
     "output_type": "execute_result"
    }
   ],
   "source": [
    "job_1 = obj1.reindex([1,2,3,4,5,6])\n",
    "job_1"
   ]
  },
  {
   "cell_type": "code",
   "execution_count": 45,
   "metadata": {},
   "outputs": [
    {
     "data": {
      "text/plain": "1    a\n2    b\n3    c\n4    d\n5    e\n6    f\ndtype: object"
     },
     "execution_count": 45,
     "metadata": {},
     "output_type": "execute_result"
    }
   ],
   "source": [
    "job_1 = obj1.reindex([1,2,3,4,5,6], fill_value ='f')\n",
    "job_1"
   ]
  },
  {
   "cell_type": "code",
   "execution_count": null,
   "metadata": {},
   "outputs": [],
   "source": [
    "o = obj.reindex(range(6), methid='ffill')\n",
    "# ffill前向值填充， bfill后向值填充"
   ]
  },
  {
   "cell_type": "markdown",
   "metadata": {},
   "source": [
    "## 4.算术运算和数据对其\n",
    "pandas可以对不同索引的对象进行算术运算  \n",
    "如果存在不同的索引对，则结果的索引就是该索引的并集"
   ]
  },
  {
   "cell_type": "code",
   "execution_count": 47,
   "metadata": {},
   "outputs": [
    {
     "data": {
      "text/plain": "a    3.0\nb    5.0\nc    7.0\nd    9.0\ne    NaN\ndtype: float64"
     },
     "execution_count": 47,
     "metadata": {},
     "output_type": "execute_result"
    }
   ],
   "source": [
    "d1 = pd.Series([1,2,3,4], index = ['a','b','c','d'])\n",
    "d2 = pd.Series([2,3,4,5,6], index = ['a','b','c','d','e'])\n",
    "d1+d2"
   ]
  },
  {
   "cell_type": "markdown",
   "metadata": {},
   "source": [
    "## 5.datafram和series之间的运算"
   ]
  },
  {
   "cell_type": "code",
   "execution_count": 49,
   "metadata": {},
   "outputs": [
    {
     "name": "stdout",
     "output_type": "stream",
     "text": "b   d   e\n1  0   1   2\n2  3   4   5\n3  6   7   8\n4  9  10  11\nb    0\nd    1\ne    2\nName: 1, dtype: int64\n"
    }
   ],
   "source": [
    "frame = pd.DataFrame(np.arange(12).reshape((4,3)), columns = list('bde'), index = [1,2,3,4])\n",
    "series = frame.loc[1]\n",
    "print(frame)\n",
    "print(series)"
   ]
  },
  {
   "cell_type": "code",
   "execution_count": 51,
   "metadata": {},
   "outputs": [
    {
     "data": {
      "text/html": "<div>\n<style scoped>\n    .dataframe tbody tr th:only-of-type {\n        vertical-align: middle;\n    }\n\n    .dataframe tbody tr th {\n        vertical-align: top;\n    }\n\n    .dataframe thead th {\n        text-align: right;\n    }\n</style>\n<table border=\"1\" class=\"dataframe\">\n  <thead>\n    <tr style=\"text-align: right;\">\n      <th></th>\n      <th>b</th>\n      <th>d</th>\n      <th>e</th>\n    </tr>\n  </thead>\n  <tbody>\n    <tr>\n      <th>1</th>\n      <td>0</td>\n      <td>0</td>\n      <td>0</td>\n    </tr>\n    <tr>\n      <th>2</th>\n      <td>3</td>\n      <td>3</td>\n      <td>3</td>\n    </tr>\n    <tr>\n      <th>3</th>\n      <td>6</td>\n      <td>6</td>\n      <td>6</td>\n    </tr>\n    <tr>\n      <th>4</th>\n      <td>9</td>\n      <td>9</td>\n      <td>9</td>\n    </tr>\n  </tbody>\n</table>\n</div>",
      "text/plain": "   b  d  e\n1  0  0  0\n2  3  3  3\n3  6  6  6\n4  9  9  9"
     },
     "execution_count": 51,
     "metadata": {},
     "output_type": "execute_result"
    }
   ],
   "source": [
    "frame-series # 一直向下，广播相减\n",
    "            # 相加时，没有就合并"
   ]
  },
  {
   "cell_type": "markdown",
   "metadata": {},
   "source": [
    "## 6.排序"
   ]
  },
  {
   "cell_type": "code",
   "execution_count": 54,
   "metadata": {},
   "outputs": [
    {
     "name": "stdout",
     "output_type": "stream",
     "text": "d    0\ne    1\na    2\nb    3\ndtype: int64\n"
    }
   ],
   "source": [
    "# 根据条件进行排序\n",
    "obj = pd.Series(range(4), index = ['d','e','a','b'])\n",
    "print(obj)"
   ]
  },
  {
   "cell_type": "code",
   "execution_count": 55,
   "metadata": {},
   "outputs": [
    {
     "data": {
      "text/plain": "a    2\nb    3\nd    0\ne    1\ndtype: int64"
     },
     "execution_count": 55,
     "metadata": {},
     "output_type": "execute_result"
    }
   ],
   "source": [
    "obj.sort_index()"
   ]
  },
  {
   "cell_type": "code",
   "execution_count": 56,
   "metadata": {},
   "outputs": [
    {
     "data": {
      "text/plain": "d    0\ne    1\na    2\nb    3\ndtype: int64"
     },
     "execution_count": 56,
     "metadata": {},
     "output_type": "execute_result"
    }
   ],
   "source": [
    "obj.sort_values()"
   ]
  },
  {
   "cell_type": "code",
   "execution_count": 57,
   "metadata": {},
   "outputs": [],
   "source": [
    "# 针对dataframe，根据任意一个轴上的索引进行排序\n",
    "frame.sort_index()\n",
    "frame.sort_index(axis=1)"
   ]
  },
  {
   "cell_type": "markdown",
   "metadata": {},
   "source": [
    "## 7.层次化索引\n",
    "在一个轴上，拥有多个索引级别  \n",
    "能以低维度形式处理高维度数据"
   ]
  },
  {
   "cell_type": "code",
   "execution_count": 60,
   "metadata": {},
   "outputs": [
    {
     "data": {
      "text/plain": "a  1   -1.701284\n   2   -1.076439\n   3    1.691366\nb  4   -0.955106\n   5    0.112393\n   6   -1.711662\nc  7   -0.003432\n   8    0.609470\nd  1    0.672763\n   2   -0.123253\ndtype: float64"
     },
     "execution_count": 60,
     "metadata": {},
     "output_type": "execute_result"
    }
   ],
   "source": [
    "data = pd.Series(np.random.randn(10), index = [['a','a','a','b','b','b','c','c','d','d'], [1,2,3,4,5,6,7,8,1,2]])\n",
    "data"
   ]
  },
  {
   "cell_type": "code",
   "execution_count": 61,
   "metadata": {},
   "outputs": [
    {
     "data": {
      "text/plain": "MultiIndex([('a', 1),\n            ('a', 2),\n            ('a', 3),\n            ('b', 4),\n            ('b', 5),\n            ('b', 6),\n            ('c', 7),\n            ('c', 8),\n            ('d', 1),\n            ('d', 2)],\n           )"
     },
     "execution_count": 61,
     "metadata": {},
     "output_type": "execute_result"
    }
   ],
   "source": [
    "data.index"
   ]
  },
  {
   "cell_type": "code",
   "execution_count": 62,
   "metadata": {},
   "outputs": [
    {
     "data": {
      "text/plain": "4   -0.955106\n5    0.112393\n6   -1.711662\ndtype: float64"
     },
     "execution_count": 62,
     "metadata": {},
     "output_type": "execute_result"
    }
   ],
   "source": [
    "data['b']"
   ]
  },
  {
   "cell_type": "code",
   "execution_count": 63,
   "metadata": {},
   "outputs": [
    {
     "data": {
      "text/plain": "b  4   -0.955106\n   5    0.112393\n   6   -1.711662\nc  7   -0.003432\n   8    0.609470\nd  1    0.672763\n   2   -0.123253\ndtype: float64"
     },
     "execution_count": 63,
     "metadata": {},
     "output_type": "execute_result"
    }
   ],
   "source": [
    "data['b':'d']"
   ]
  },
  {
   "cell_type": "code",
   "execution_count": 64,
   "metadata": {},
   "outputs": [
    {
     "data": {
      "text/plain": "a   -1.076439\nd   -0.123253\ndtype: float64"
     },
     "execution_count": 64,
     "metadata": {},
     "output_type": "execute_result"
    }
   ],
   "source": [
    "# 内层选取\n",
    "data[:,2]"
   ]
  },
  {
   "cell_type": "code",
   "execution_count": 65,
   "metadata": {},
   "outputs": [
    {
     "data": {
      "text/html": "<div>\n<style scoped>\n    .dataframe tbody tr th:only-of-type {\n        vertical-align: middle;\n    }\n\n    .dataframe tbody tr th {\n        vertical-align: top;\n    }\n\n    .dataframe thead th {\n        text-align: right;\n    }\n</style>\n<table border=\"1\" class=\"dataframe\">\n  <thead>\n    <tr style=\"text-align: right;\">\n      <th></th>\n      <th>1</th>\n      <th>2</th>\n      <th>3</th>\n      <th>4</th>\n      <th>5</th>\n      <th>6</th>\n      <th>7</th>\n      <th>8</th>\n    </tr>\n  </thead>\n  <tbody>\n    <tr>\n      <th>a</th>\n      <td>-1.701284</td>\n      <td>-1.076439</td>\n      <td>1.691366</td>\n      <td>NaN</td>\n      <td>NaN</td>\n      <td>NaN</td>\n      <td>NaN</td>\n      <td>NaN</td>\n    </tr>\n    <tr>\n      <th>b</th>\n      <td>NaN</td>\n      <td>NaN</td>\n      <td>NaN</td>\n      <td>-0.955106</td>\n      <td>0.112393</td>\n      <td>-1.711662</td>\n      <td>NaN</td>\n      <td>NaN</td>\n    </tr>\n    <tr>\n      <th>c</th>\n      <td>NaN</td>\n      <td>NaN</td>\n      <td>NaN</td>\n      <td>NaN</td>\n      <td>NaN</td>\n      <td>NaN</td>\n      <td>-0.003432</td>\n      <td>0.60947</td>\n    </tr>\n    <tr>\n      <th>d</th>\n      <td>0.672763</td>\n      <td>-0.123253</td>\n      <td>NaN</td>\n      <td>NaN</td>\n      <td>NaN</td>\n      <td>NaN</td>\n      <td>NaN</td>\n      <td>NaN</td>\n    </tr>\n  </tbody>\n</table>\n</div>",
      "text/plain": "          1         2         3         4         5         6         7  \\\na -1.701284 -1.076439  1.691366       NaN       NaN       NaN       NaN   \nb       NaN       NaN       NaN -0.955106  0.112393 -1.711662       NaN   \nc       NaN       NaN       NaN       NaN       NaN       NaN -0.003432   \nd  0.672763 -0.123253       NaN       NaN       NaN       NaN       NaN   \n\n         8  \na      NaN  \nb      NaN  \nc  0.60947  \nd      NaN  "
     },
     "execution_count": 65,
     "metadata": {},
     "output_type": "execute_result"
    }
   ],
   "source": [
    "data.unstack()"
   ]
  },
  {
   "cell_type": "code",
   "execution_count": 66,
   "metadata": {},
   "outputs": [
    {
     "data": {
      "text/plain": "a  1   -1.701284\n   2   -1.076439\n   3    1.691366\nb  4   -0.955106\n   5    0.112393\n   6   -1.711662\nc  7   -0.003432\n   8    0.609470\nd  1    0.672763\n   2   -0.123253\ndtype: float64"
     },
     "execution_count": 66,
     "metadata": {},
     "output_type": "execute_result"
    }
   ],
   "source": [
    "data.unstack().stack()"
   ]
  },
  {
   "cell_type": "markdown",
   "metadata": {},
   "source": [
    "## 8.文本格式处理\n",
    "read_csv: 从文件中加载带分隔符的数据，默认分隔符为逗号  \n",
    "read_table: 默认分隔符为制表符'\\t'  \n",
    "read_fwf  \n",
    "read_clipboard"
   ]
  },
  {
   "cell_type": "code",
   "execution_count": null,
   "metadata": {},
   "outputs": [],
   "source": [
    "pd.read_csv('data.csv')\n",
    "pd.read_table('data.csv', sep=',')  # 制定分隔符\n",
    "pd.read_csv('data.csv', header = None)  # 没有头部，所有文件里的数据都是目标数据，会自动生成头部\n",
    "pd.read_csv('data.csv', index_col='c')  # 制定c列为索引列，也可以[]制定多列\n"
   ]
  },
  {
   "cell_type": "code",
   "execution_count": null,
   "metadata": {},
   "outputs": [],
   "source": [
    "# excel"
   ]
  },
  {
   "cell_type": "code",
   "execution_count": null,
   "metadata": {},
   "outputs": [],
   "source": [
    "excel = pd.read_excel('data.xlsx')\n",
    "excel = pd.read_excel('data.xlsx', sheet_name = '工作表2')"
   ]
  },
  {
   "cell_type": "code",
   "execution_count": null,
   "metadata": {},
   "outputs": [],
   "source": [
    "excel.plot(kind = 'scatter', x='age', y='place').get_figure()"
   ]
  }
 ]
}